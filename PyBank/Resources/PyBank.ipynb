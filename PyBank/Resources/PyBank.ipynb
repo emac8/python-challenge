{
 "cells": [
  {
   "cell_type": "code",
   "execution_count": 1,
   "id": "669aa85d-0d62-4239-bbf2-c101aeb86d4b",
   "metadata": {},
   "outputs": [],
   "source": [
    "import csv\n",
    "from datetime import datetime"
   ]
  },
  {
   "cell_type": "code",
   "execution_count": 2,
   "id": "da3df28b-9b0e-4a52-b1d9-19cbe9741001",
   "metadata": {},
   "outputs": [],
   "source": [
    "# Define path to CSV\n",
    "filename = 'budget_data.csv'\n",
    "output_file = 'financial_analysis.txt'"
   ]
  },
  {
   "cell_type": "code",
   "execution_count": 3,
   "id": "5f8e970c-3b3b-4663-8308-876ba000be2c",
   "metadata": {},
   "outputs": [],
   "source": [
    "# Initialize variables\n",
    "total_months = 0\n",
    "total_profit_losses = 0\n",
    "previous_profit_losses = None\n",
    "profit_losses_changes = []\n",
    "greatest_increase = {\"date\": \"\", \"amount\": float('-inf')}\n",
    "greatest_decrease = {\"date\": \"\", \"amount\": float('inf')}"
   ]
  },
  {
   "cell_type": "code",
   "execution_count": 4,
   "id": "9dc5918b-bcca-4162-aa91-42660d18be08",
   "metadata": {},
   "outputs": [],
   "source": [
    "# Open CSV file and loop\n",
    "with open(filename, mode='r') as file:\n",
    "    csv_reader = csv.reader(file)\n",
    "    \n",
    "    # Skip header\n",
    "    header = next(csv_reader)\n",
    "    \n",
    "    for row in csv_reader:\n",
    "        date = row[0]\n",
    "        profit_losses = int(row[1])\n",
    "        \n",
    "        # Update total months and total profit/losses\n",
    "        total_months += 1\n",
    "        total_profit_losses += profit_losses\n",
    "        \n",
    "        # change in profit/losses\n",
    "        if previous_profit_losses is not None:\n",
    "            change = profit_losses - previous_profit_losses\n",
    "            profit_losses_changes.append(change)\n",
    "            \n",
    "            # Greatest increase and decrease\n",
    "            if change > greatest_increase[\"amount\"]:\n",
    "                greatest_increase = {\"date\": date, \"amount\": change}\n",
    "            if change < greatest_decrease[\"amount\"]:\n",
    "                greatest_decrease = {\"date\": date, \"amount\": change}\n",
    "        \n",
    "        # Update previous_profit_losses\n",
    "        previous_profit_losses = profit_losses"
   ]
  },
  {
   "cell_type": "code",
   "execution_count": 5,
   "id": "eaa2e74a-f671-4fc2-a4a9-65de0b9130d1",
   "metadata": {},
   "outputs": [],
   "source": [
    "# Calculate avg change\n",
    "average_change = sum(profit_losses_changes) / len(profit_losses_changes) if profit_losses_changes else 0"
   ]
  },
  {
   "cell_type": "code",
   "execution_count": 6,
   "id": "0a1d4b15-0df6-4982-8c13-5d71e3a7d481",
   "metadata": {},
   "outputs": [
    {
     "name": "stdout",
     "output_type": "stream",
     "text": [
      "Financial Analysis\n",
      "-------------------------\n",
      "Total Months: 86\n",
      "Total: $22564198\n",
      "Average Change: $-8311.11\n",
      "Greatest Increase in Profits: Aug-16 ($1862002)\n",
      "Greatest Decrease in Profits: Feb-14 ($-1825558)\n",
      "\n"
     ]
    }
   ],
   "source": [
    "# Print results\n",
    "results = (\n",
    "    f\"Financial Analysis\\n\"\n",
    "    f\"-------------------------\\n\"\n",
    "    f\"Total Months: {total_months}\\n\"\n",
    "    f\"Total: ${total_profit_losses}\\n\"\n",
    "    f\"Average Change: ${average_change:.2f}\\n\"\n",
    "    f\"Greatest Increase in Profits: {greatest_increase['date']} (${greatest_increase['amount']})\\n\"\n",
    "    f\"Greatest Decrease in Profits: {greatest_decrease['date']} (${greatest_decrease['amount']})\\n\"\n",
    ")\n",
    "print(results)"
   ]
  },
  {
   "cell_type": "code",
   "execution_count": 7,
   "id": "d0b6b155-8ec2-4644-9dea-0fa45bc3605b",
   "metadata": {},
   "outputs": [],
   "source": [
    "# Write results to a text file\n",
    "with open(output_file, mode='w') as file:\n",
    "    file.write(results)"
   ]
  },
  {
   "cell_type": "code",
   "execution_count": null,
   "id": "2398efa1-5ef0-4906-adb7-27c1c470b936",
   "metadata": {},
   "outputs": [],
   "source": []
  }
 ],
 "metadata": {
  "kernelspec": {
   "display_name": "Python 3 (ipykernel)",
   "language": "python",
   "name": "python3"
  },
  "language_info": {
   "codemirror_mode": {
    "name": "ipython",
    "version": 3
   },
   "file_extension": ".py",
   "mimetype": "text/x-python",
   "name": "python",
   "nbconvert_exporter": "python",
   "pygments_lexer": "ipython3",
   "version": "3.10.14"
  }
 },
 "nbformat": 4,
 "nbformat_minor": 5
}
