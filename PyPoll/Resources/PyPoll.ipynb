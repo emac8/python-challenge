{
 "cells": [
  {
   "cell_type": "code",
   "execution_count": 33,
   "id": "5f72308a-be9e-41b7-8728-61237cbe3713",
   "metadata": {},
   "outputs": [],
   "source": [
    "import csv\n",
    "from collections import defaultdict"
   ]
  },
  {
   "cell_type": "code",
   "execution_count": 34,
   "id": "18a95a8c-e326-43d2-9734-5b66b8d8ebe6",
   "metadata": {},
   "outputs": [],
   "source": [
    "# Define path to CSV\n",
    "filename = 'election_data.csv'\n",
    "output_file = 'election_analysis.txt'"
   ]
  },
  {
   "cell_type": "code",
   "execution_count": 35,
   "id": "dc26c533-4841-470b-8933-ce800a787deb",
   "metadata": {},
   "outputs": [],
   "source": [
    "# Initialize variables\n",
    "total_votes = 0\n",
    "candidate_votes = defaultdict(int)"
   ]
  },
  {
   "cell_type": "code",
   "execution_count": 36,
   "id": "7f3234a3-7353-487d-a1d6-f8179442998a",
   "metadata": {},
   "outputs": [],
   "source": [
    "# Open CSV file and loop\n",
    "with open(filename, mode='r') as file:\n",
    "    csv_reader = csv.reader(file)\n",
    "    \n",
    "    # Skip header\n",
    "    header = next(csv_reader)\n",
    "    \n",
    "    for row in csv_reader:\n",
    "        voter_id, county, candidate = row\n",
    "        \n",
    "        # Count total votes\n",
    "        total_votes += 1\n",
    "        \n",
    "        # Count votes candidates\n",
    "        candidate_votes[candidate] += 1"
   ]
  },
  {
   "cell_type": "code",
   "execution_count": 37,
   "id": "1576380d-467c-4c21-a338-a4f31a8c40be",
   "metadata": {},
   "outputs": [],
   "source": [
    "# Calculate percentage of votes and winner\n",
    "winner = \"\"\n",
    "max_votes = 0"
   ]
  },
  {
   "cell_type": "code",
   "execution_count": 38,
   "id": "75ada4ff-5f8d-4020-ba23-e5efa967f91b",
   "metadata": {},
   "outputs": [],
   "source": [
    "# create results to print\n",
    "results = [f\"Total Votes: {total_votes}\\n\"]\n",
    "results.append(\"\\n-------------------------\\n\")\n",
    "results.append(\"\\nElection Results:\\n\")\n",
    "results.append(\"\\n-------------------------\\n\")\n",
    "\n",
    "for candidate, votes in candidate_votes.items():\n",
    "    percentage = (votes / total_votes) * 100\n",
    "    results.append(f\"{candidate}: {percentage:.3f}% ({votes})\\n\")\n",
    "    \n",
    "    # Determine winner\n",
    "    if votes > max_votes:\n",
    "        max_votes = votes\n",
    "        winner = candidate\n",
    "\n",
    "results.append(\"\\n-------------------------\\n\")\n",
    "results.append(f\"\\nWinner: {winner}\\n\")"
   ]
  },
  {
   "cell_type": "code",
   "execution_count": 39,
   "id": "78dc7f6c-2490-41c6-991a-50e68e3a8d5d",
   "metadata": {},
   "outputs": [
    {
     "name": "stdout",
     "output_type": "stream",
     "text": [
      "Total Votes: 369711\n",
      "\n",
      "-------------------------\n",
      "\n",
      "Election Results:\n",
      "\n",
      "-------------------------\n",
      "Charles Casper Stockham: 23.049% (85213)\n",
      "Diana DeGette: 73.812% (272892)\n",
      "Raymon Anthony Doane: 3.139% (11606)\n",
      "\n",
      "-------------------------\n",
      "\n",
      "Winner: Diana DeGette\n",
      "\n"
     ]
    }
   ],
   "source": [
    "# Print results\n",
    "print(''.join(results))"
   ]
  },
  {
   "cell_type": "code",
   "execution_count": 40,
   "id": "222df46f-0c5a-419b-829f-d5b709fc7ed3",
   "metadata": {},
   "outputs": [],
   "source": [
    "# Write results in text file\n",
    "with open(output_file, mode='w') as file:\n",
    "    file.writelines(results)"
   ]
  },
  {
   "cell_type": "code",
   "execution_count": null,
   "id": "64d0f48c-acc4-4429-b01a-7845702c13d4",
   "metadata": {},
   "outputs": [],
   "source": []
  }
 ],
 "metadata": {
  "kernelspec": {
   "display_name": "Python 3 (ipykernel)",
   "language": "python",
   "name": "python3"
  },
  "language_info": {
   "codemirror_mode": {
    "name": "ipython",
    "version": 3
   },
   "file_extension": ".py",
   "mimetype": "text/x-python",
   "name": "python",
   "nbconvert_exporter": "python",
   "pygments_lexer": "ipython3",
   "version": "3.10.14"
  }
 },
 "nbformat": 4,
 "nbformat_minor": 5
}
